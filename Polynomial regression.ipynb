{
 "cells": [
  {
   "cell_type": "markdown",
   "metadata": {},
   "source": [
    "# Polynomial Regression"
   ]
  },
  {
   "cell_type": "code",
   "execution_count": 5,
   "metadata": {},
   "outputs": [],
   "source": [
    "import pandas as pd\n",
    "import numpy as np\n",
    "from sklearn.linear_model import LinearRegression\n",
    "from sklearn.preprocessing import PolynomialFeatures\n",
    "from sklearn.model_selection import train_test_split\n",
    "from sklearn.metrics import r2_score"
   ]
  },
  {
   "cell_type": "code",
   "execution_count": null,
   "metadata": {},
   "outputs": [],
   "source": [
    "#cargar el dataset de los precios de los automóviles\n",
    "df=pd.read_csv ruta /al/dataset csv\""
   ]
  },
  {
   "cell_type": "code",
   "execution_count": null,
   "metadata": {},
   "outputs": [],
   "source": [
    "#seleccionar las variables de entrada y de salida\n",
    "X=df [['horsepower','curb-weight','engine size']]\n",
    "y=df ['price']"
   ]
  },
  {
   "cell_type": "code",
   "execution_count": null,
   "metadata": {},
   "outputs": [],
   "source": [
    "X =data.iloc [:,-1 ].values\n",
    "y =data.iloc [:, -1 ].values"
   ]
  },
  {
   "cell_type": "code",
   "execution_count": null,
   "metadata": {},
   "outputs": [],
   "source": [
    "# dividir el dataset en datos de entrenamiento y de prueba\n",
    "X_train, X_test , y_train , y_test = train_test_split (X, y, test_size=0.3 , random_state=0 )\n",
    "\n",
    "# crear una instancia del objeto PolynomialFeatures con un grado de polinomio de 2\n",
    "poly= PolynomialFeatures(degree=2)\n",
    "\n",
    "# transformar los datos de entrada a un polinomio de segundo grado\n",
    "X_train_poly= poly.fit_transform(X_train)\n",
    "X_test_poly= poly.transform (X_test)\n",
    "\n",
    "# entrenar el modelo de regresión lineal\n",
    "lr= LinearRegression\n",
    "lr.fit(X_train_poly , y_train)"
   ]
  },
  {
   "cell_type": "code",
   "execution_count": null,
   "metadata": {},
   "outputs": [],
   "source": [
    "# hacer predicciones en los datos de prueba\n",
    "y_pred= lr.predict (X_test_poly)\n",
    "\n",
    "# calcular el coeficiente de determinación R^2 para evaluar el modelo\n",
    "r2 = r2_score(y_test , y_pred)\n",
    "print(\"El coeficiente de determinación R^2 es:\" , r2)\n",
    "\n",
    "# hacer una predicción para un automóvil con 100 caballos de fuerza, peso en vacío de 2500 libras y tamaño de motor de 120 pulgadas cúbicas\n",
    "X_new= np.array ([[100, 2500 , 120]])\n",
    "X_new_poly= poly.transform (X_new)\n",
    "y_new_pred= lr.predict (X_new_poly)\n",
    "print= (\"El precio estimado para este automóvil es de:\", y_new_pred [0])\n"
   ]
  }
 ],
 "metadata": {
  "kernelspec": {
   "display_name": "base",
   "language": "python",
   "name": "python3"
  },
  "language_info": {
   "codemirror_mode": {
    "name": "ipython",
    "version": 3
   },
   "file_extension": ".py",
   "mimetype": "text/x-python",
   "name": "python",
   "nbconvert_exporter": "python",
   "pygments_lexer": "ipython3",
   "version": "3.11.7"
  }
 },
 "nbformat": 4,
 "nbformat_minor": 2
}
